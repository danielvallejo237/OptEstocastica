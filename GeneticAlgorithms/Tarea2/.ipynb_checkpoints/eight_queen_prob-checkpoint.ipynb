{
 "cells": [
  {
   "cell_type": "markdown",
   "metadata": {},
   "source": [
    "# Solución al problema de las 8 reinas con algoritmos genéticos mediante diferentes representaciones \n",
    "\n",
    "### Daniel Vallejo Aldana // Optimización Estocástca // CIMAT 2023"
   ]
  },
  {
   "cell_type": "code",
   "execution_count": 1,
   "metadata": {},
   "outputs": [],
   "source": [
    "import numpy as np\n",
    "import random\n",
    "import matplotlib.pyplot as plt\n",
    "from itertools import permutations\n",
    "from typing import Optional\n",
    "from tqdm import tqdm"
   ]
  },
  {
   "cell_type": "markdown",
   "metadata": {},
   "source": [
    "Para el problema de las 8 reinas creamos un algoritmo genético en el cual creamos dos tipos de representaciones, la representación binaria que consiste en un vector de 24 entradas donde cada bloque de 3 bits representa la columna en la que se encuentra la reina en el renglon j. La otra representación consiste en una representación alfabética. La función de fitness en este caso es de maximización del score en donde se checa que no haya reinas dentro del mismo renglón, de la misma columna o que puedan atacarse en algún otro movimiento. Se considera que el problema está resuelto cuando se llega a 28.0"
   ]
  },
  {
   "cell_type": "markdown",
   "metadata": {},
   "source": [
    "## Creación de las diferentes representaciones del problema de las 8 reinas"
   ]
  },
  {
   "cell_type": "code",
   "execution_count": 2,
   "metadata": {},
   "outputs": [],
   "source": [
    "def create_random_binary_representation():\n",
    "    empty=np.zeros(8*3,dtype=int)\n",
    "    for i in range(8):\n",
    "        position=random.randint(0,7)\n",
    "        binrep=str(bin(position))[2:]\n",
    "        for j in range(len(binrep)):\n",
    "            empty[3*i+(2-j)]=int(binrep[j])\n",
    "    return empty\n",
    "\n",
    "def create_numerical_representation():\n",
    "    empty=np.zeros(8,dtype=int)\n",
    "    for i in range(8):\n",
    "        empty[i]=random.randint(0,7) #Creamos una representación de los números\n",
    "    return empty\n",
    "def binary_rep_to_coordinates(binrep:np.array):\n",
    "    '''\n",
    "    En este caso las parejas representan el renglón y la columna asociada por lo que la coordenada\n",
    "    (i,j) representa la reina situada en el renglón i, columna j\n",
    "    '''\n",
    "    pairs=[]\n",
    "    num=0\n",
    "    for i in range(8):\n",
    "        num=0\n",
    "        for j in range(3):\n",
    "            num+=binrep[3*i+j]*2**j \n",
    "        pairs.append((i,num))\n",
    "    return pairs\n",
    "\n",
    "def numerical_to_coordinates(numrep:np.array):\n",
    "    pairs=[]\n",
    "    for i in range(numrep.shape[0]):\n",
    "        pairs.append((i,numrep[i]))\n",
    "    return pairs  \n",
    "\n",
    "def fitness_socore(positions):\n",
    "    score=0\n",
    "    for p in positions:\n",
    "        current_row,current_col=p \n",
    "        for new_p in positions:\n",
    "            new_row,new_col=new_p\n",
    "            if (new_row==current_row) and (new_col==current_col):\n",
    "                continue\n",
    "            if new_col==current_col:\n",
    "                continue\n",
    "            if new_row+new_col==current_row+current_col:\n",
    "                continue\n",
    "            if new_row-new_col==current_row-current_col:\n",
    "                continue\n",
    "            score+=1\n",
    "    return score/2\n",
    "\n",
    "def binary_fitness_score(binrep:np.array):\n",
    "    positions=binary_rep_to_coordinates(binrep)\n",
    "    return fitness_socore(positions)\n",
    "\n",
    "def numerical_fitness_score(numrep:np.array):\n",
    "    positions=numerical_to_coordinates(numrep)\n",
    "    return fitness_socore(positions)\n",
    "\n",
    "def create_random_binary_population(pop_size:int=10):\n",
    "    init_pop=[]\n",
    "    for i in range(pop_size):\n",
    "        init_pop.append(create_random_binary_representation())\n",
    "    return init_pop\n",
    "\n",
    "def create_random_numerical_population(pop_size:int=10):\n",
    "    init_pop=[]\n",
    "    for i in range(pop_size):\n",
    "        init_pop.append(create_numerical_representation())\n",
    "    return init_pop\n",
    "\n",
    "def select_best_candidates(population:list):\n",
    "    parents=[]\n",
    "    for ind in population:\n",
    "        score_ratio=(binary_fitness_score(ind))/28.0 \n",
    "        nmr=random.random()\n",
    "        if nmr<score_ratio:\n",
    "            parents.append(ind)\n",
    "    return parents\n",
    "\n",
    "def select_best_numerical_candidate(population:list):\n",
    "    parents=[]\n",
    "    for ind in population:\n",
    "        score_ratio=numerical_fitness_score(ind)/28.0\n",
    "        nmr=random.random()\n",
    "        if nmr<score_ratio:\n",
    "            parents.append(ind)\n",
    "    return parents\n",
    "\n",
    "def binary_crossover_points(parents:list,cross_points:Optional[int]=2):\n",
    "    '''\n",
    "    Operador de cruza en el caso binario, en este caso si definimos que el punto de cruza\n",
    "    es None entonces se hace cruza uniforme, en otro caso se hacen dos puntos de cruza o \n",
    "    un solo punto de cruza\n",
    "    '''\n",
    "    points=[]\n",
    "    if cross_points is not None:\n",
    "        points=sorted(random.sample(range(parents[0].shape[0]),cross_points))\n",
    "    offsprings=[]\n",
    "    Perm=list(permutations(parents,2))\n",
    "    for i in range(len(Perm)):\n",
    "        if cross_points is not None:\n",
    "            if len(points)==1:\n",
    "                tmp_array=np.zeros_like(Perm[i][0])\n",
    "                tmp_array[:points[0]]=Perm[i][0][:points[0]]\n",
    "                tmp_array[points[0]:]=Perm[i][1][points[0]:]\n",
    "                Perm[i][0][:points[0]]=Perm[i][1][:points[0]]\n",
    "                offsprings.append(tmp_array)\n",
    "                offsprings.append(Perm[i][0])\n",
    "            if len(points)==2:\n",
    "                tmp_array=np.zeros_like(Perm[i][0])\n",
    "                tmp_array[:points[0]]=Perm[i][0][:points[0]]\n",
    "                tmp_array[points[0]:points[1]]=Perm[i][1][points[0]:points[1]]\n",
    "                tmp_array[points[1]:]=Perm[i][0][points[1]:]\n",
    "                Perm[i][0][points[0]:points[1]]=Perm[i][1][points[0]:points[1]]\n",
    "                offsprings.append(tmp_array)\n",
    "                offsprings.append(Perm[i][0])\n",
    "        else:\n",
    "            #Hacemos una cruza uniforme de los individuos de la población\n",
    "            tmp_array=np.zeros_like(Perm[i][0])\n",
    "            for k in range(tmp_array.shape[0]):\n",
    "                num=random.random()\n",
    "                if num<=0.5:\n",
    "                    tmp_array[k]=Perm[i][0][k]\n",
    "                    Perm[i][0][k]=Perm[i][1][k]\n",
    "                else:\n",
    "                    tmp_array[k]=Perm[i][1][k]\n",
    "            offsprings.append(tmp_array)\n",
    "            offsprings.append(Perm[i][0])\n",
    "    #Hay que hacer elementos únicos de los offsprings para la selección \n",
    "    prev=len(offsprings)\n",
    "    offsprings=list(set(tuple(i) for i in offsprings))\n",
    "    for i in range(len(offsprings)):\n",
    "        offsprings[i]=np.array(offsprings[i])\n",
    "    now=len(offsprings)\n",
    "    return offsprings\n",
    "\n",
    "def mutate_binary_individual(binrep:np.array):\n",
    "    mutation_prob=1.0/binrep.shape[0]\n",
    "    for i in range(binrep.shape[0]):\n",
    "        num=random.random()\n",
    "        if num<mutation_prob:\n",
    "            binrep[i]=1-binrep[i] #Para el caso binario cambiamos un 0 por un 1 en la mutación\n",
    "    return binrep\n",
    "\n",
    "def mutate_numerical_inidivdual(numrep:np.array):\n",
    "    mutation_prob=1/numrep.shape[0]\n",
    "    for i in range(numrep.shape[0]):\n",
    "        num=random.random()\n",
    "        if num<mutation_prob:\n",
    "            numrep[i]=(numrep[i]+1) % 8\n",
    "    return numrep \n",
    "def mutate_binary_population(population:list):\n",
    "    for i in range(len(population)):\n",
    "        population[i]=mutate_binary_individual(population[i])\n",
    "    return population\n",
    "\n",
    "def mutate_numerical_population(population:list):\n",
    "    for i in range(len(population)):\n",
    "        population[i]=mutate_numerical_inidivdual(population[i])\n",
    "    return population\n",
    "\n",
    "def evolution_binary_population(pop:list,population_size:int=10,cross_points:int=1):\n",
    "    crossover=binary_crossover_points(pop,cross_points=cross_points)\n",
    "    crossover=select_best_candidates(crossover)\n",
    "    mutation=mutate_binary_population(crossover)\n",
    "    new_gen = sorted(mutation, key=lambda ind: binary_fitness_score(ind), reverse=True)[:population_size]\n",
    "    random.shuffle(new_gen)\n",
    "    scores=[]\n",
    "    for ind in new_gen:\n",
    "        scores.append(binary_fitness_score(ind))\n",
    "    return new_gen,max(scores)\n",
    "\n",
    "def evolution_numerical_population(pop:list,population_size:int=10,cross_points:int=1):\n",
    "    crossover=binary_crossover_points(pop,cross_points=cross_points)\n",
    "    crossover=select_best_numerical_candidate(crossover)\n",
    "    mutation=mutate_numerical_population(crossover)\n",
    "    new_gen = sorted(mutation, key=lambda ind: numerical_fitness_score(ind), reverse=True)[:population_size]\n",
    "    random.shuffle(new_gen)\n",
    "    scores=[]\n",
    "    for ind in new_gen:\n",
    "        scores.append(numerical_fitness_score(ind))\n",
    "    return new_gen,max(scores)\n",
    "\n",
    "\n"
   ]
  },
  {
   "cell_type": "markdown",
   "metadata": {},
   "source": [
    "# Ejecuciones con representación binaria"
   ]
  },
  {
   "cell_type": "markdown",
   "metadata": {},
   "source": [
    "### 1 Punto de cruza"
   ]
  },
  {
   "cell_type": "code",
   "execution_count": 3,
   "metadata": {},
   "outputs": [
    {
     "name": "stdout",
     "output_type": "stream",
     "text": [
      "Run: 1 -- Generations Required: 225\n",
      "Run: 2 -- Generations Required: 24\n",
      "Run: 3 -- Generations Required: 45\n",
      "Run: 4 -- Generations Required: 410\n",
      "Run: 5 -- Generations Required: 423\n",
      "Run: 6 -- Generations Required: 203\n",
      "Run: 7 -- Generations Required: 95\n",
      "Run: 8 -- Generations Required: 25\n",
      "Run: 9 -- Generations Required: 171\n",
      "Run: 10 -- Generations Required: 60\n",
      "Run: 11 -- Generations Required: 75\n",
      "Run: 12 -- Generations Required: 161\n",
      "Run: 13 -- Generations Required: 225\n",
      "Run: 14 -- Generations Required: 57\n",
      "Run: 15 -- Generations Required: 26\n",
      "Run: 16 -- Generations Required: 126\n",
      "Run: 17 -- Generations Required: 523\n",
      "Run: 18 -- Generations Required: 59\n",
      "Run: 19 -- Generations Required: 103\n",
      "Run: 20 -- Generations Required: 21\n",
      "Run: 21 -- Generations Required: 39\n",
      "Run: 22 -- Generations Required: 58\n",
      "Run: 23 -- Generations Required: 48\n",
      "Run: 24 -- Generations Required: 96\n",
      "Run: 25 -- Generations Required: 62\n",
      "Run: 26 -- Generations Required: 124\n",
      "Run: 27 -- Generations Required: 351\n",
      "Run: 28 -- Generations Required: 61\n",
      "Run: 29 -- Generations Required: 206\n",
      "Run: 30 -- Generations Required: 264\n"
     ]
    }
   ],
   "source": [
    "evaluations=[]\n",
    "for i in range(30):\n",
    "    counter=0\n",
    "    score=0\n",
    "    poblacion=create_random_binary_population(pop_size=50)\n",
    "    while score<28.0:\n",
    "        poblacion,score=evolution_binary_population(poblacion,cross_points=1,population_size=50)\n",
    "        counter+=1\n",
    "    print(\"Run: {} -- Generations Required: {}\".format(i+1,counter))\n",
    "    evaluations.append(counter)"
   ]
  },
  {
   "cell_type": "code",
   "execution_count": 4,
   "metadata": {},
   "outputs": [
    {
     "name": "stdout",
     "output_type": "stream",
     "text": [
      "Max: 523 -- Min: 21 -- Mean: 145.53 -- SD: 130.8\n"
     ]
    }
   ],
   "source": [
    "print(\"Max: {} -- Min: {} -- Mean: {} -- SD: {}\".format(np.max(evaluations),np.min(evaluations),round(np.mean(evaluations),2),round(np.std(evaluations),2)))"
   ]
  },
  {
   "cell_type": "markdown",
   "metadata": {},
   "source": [
    "### 2 Puntos de cruza"
   ]
  },
  {
   "cell_type": "code",
   "execution_count": 5,
   "metadata": {},
   "outputs": [
    {
     "name": "stdout",
     "output_type": "stream",
     "text": [
      "Run: 1 -- Generations Required: 17\n",
      "Run: 2 -- Generations Required: 13\n",
      "Run: 3 -- Generations Required: 11\n",
      "Run: 4 -- Generations Required: 15\n",
      "Run: 5 -- Generations Required: 13\n",
      "Run: 6 -- Generations Required: 12\n",
      "Run: 7 -- Generations Required: 8\n",
      "Run: 8 -- Generations Required: 11\n",
      "Run: 9 -- Generations Required: 8\n",
      "Run: 10 -- Generations Required: 28\n",
      "Run: 11 -- Generations Required: 8\n",
      "Run: 12 -- Generations Required: 8\n",
      "Run: 13 -- Generations Required: 17\n",
      "Run: 14 -- Generations Required: 9\n",
      "Run: 15 -- Generations Required: 20\n",
      "Run: 16 -- Generations Required: 7\n",
      "Run: 17 -- Generations Required: 7\n",
      "Run: 18 -- Generations Required: 12\n",
      "Run: 19 -- Generations Required: 2\n",
      "Run: 20 -- Generations Required: 10\n",
      "Run: 21 -- Generations Required: 13\n",
      "Run: 22 -- Generations Required: 17\n",
      "Run: 23 -- Generations Required: 20\n",
      "Run: 24 -- Generations Required: 8\n",
      "Run: 25 -- Generations Required: 16\n",
      "Run: 26 -- Generations Required: 16\n",
      "Run: 27 -- Generations Required: 9\n",
      "Run: 28 -- Generations Required: 24\n",
      "Run: 29 -- Generations Required: 6\n",
      "Run: 30 -- Generations Required: 9\n"
     ]
    }
   ],
   "source": [
    "evaluations=[]\n",
    "for i in range(30):\n",
    "    counter=0\n",
    "    score=0\n",
    "    poblacion=create_random_binary_population(pop_size=50)\n",
    "    while score<28.0:\n",
    "        poblacion,score=evolution_binary_population(poblacion,cross_points=2,population_size=50)\n",
    "        counter+=1\n",
    "    print(\"Run: {} -- Generations Required: {}\".format(i+1,counter))\n",
    "    evaluations.append(counter)"
   ]
  },
  {
   "cell_type": "code",
   "execution_count": 6,
   "metadata": {},
   "outputs": [
    {
     "name": "stdout",
     "output_type": "stream",
     "text": [
      "Max: 28 -- Min: 2 -- Mean: 12.47 -- SD: 5.6\n"
     ]
    }
   ],
   "source": [
    "print(\"Max: {} -- Min: {} -- Mean: {} -- SD: {}\".format(np.max(evaluations),np.min(evaluations),round(np.mean(evaluations),2),round(np.std(evaluations),2)))"
   ]
  },
  {
   "cell_type": "markdown",
   "metadata": {},
   "source": [
    "### Cruza Uniforme"
   ]
  },
  {
   "cell_type": "code",
   "execution_count": 7,
   "metadata": {},
   "outputs": [
    {
     "name": "stdout",
     "output_type": "stream",
     "text": [
      "Run: 1 -- Generations Required: 11\n",
      "Run: 2 -- Generations Required: 4\n",
      "Run: 3 -- Generations Required: 5\n",
      "Run: 4 -- Generations Required: 6\n",
      "Run: 5 -- Generations Required: 5\n",
      "Run: 6 -- Generations Required: 9\n",
      "Run: 7 -- Generations Required: 5\n",
      "Run: 8 -- Generations Required: 5\n",
      "Run: 9 -- Generations Required: 8\n",
      "Run: 10 -- Generations Required: 22\n",
      "Run: 11 -- Generations Required: 4\n",
      "Run: 12 -- Generations Required: 10\n",
      "Run: 13 -- Generations Required: 5\n",
      "Run: 14 -- Generations Required: 7\n",
      "Run: 15 -- Generations Required: 6\n",
      "Run: 16 -- Generations Required: 14\n",
      "Run: 17 -- Generations Required: 13\n",
      "Run: 18 -- Generations Required: 7\n",
      "Run: 19 -- Generations Required: 5\n",
      "Run: 20 -- Generations Required: 3\n",
      "Run: 21 -- Generations Required: 4\n",
      "Run: 22 -- Generations Required: 5\n",
      "Run: 23 -- Generations Required: 3\n",
      "Run: 24 -- Generations Required: 5\n",
      "Run: 25 -- Generations Required: 6\n",
      "Run: 26 -- Generations Required: 7\n",
      "Run: 27 -- Generations Required: 10\n",
      "Run: 28 -- Generations Required: 8\n",
      "Run: 29 -- Generations Required: 4\n",
      "Run: 30 -- Generations Required: 9\n"
     ]
    }
   ],
   "source": [
    "evaluations=[]\n",
    "for i in range(30):\n",
    "    counter=0\n",
    "    score=0\n",
    "    poblacion=create_random_binary_population(pop_size=50)\n",
    "    while (score<28.0) and (counter<10000):\n",
    "        poblacion,score=evolution_binary_population(poblacion,cross_points=None,population_size=50)\n",
    "        counter+=1\n",
    "    print(\"Run: {} -- Generations Required: {}\".format(i+1,counter))\n",
    "    evaluations.append(counter)"
   ]
  },
  {
   "cell_type": "code",
   "execution_count": 8,
   "metadata": {},
   "outputs": [
    {
     "name": "stdout",
     "output_type": "stream",
     "text": [
      "Max: 22 -- Min: 3 -- Mean: 7.17 -- SD: 3.9\n"
     ]
    }
   ],
   "source": [
    "print(\"Max: {} -- Min: {} -- Mean: {} -- SD: {}\".format(np.max(evaluations),np.min(evaluations),round(np.mean(evaluations),2),round(np.std(evaluations),2)))"
   ]
  },
  {
   "cell_type": "markdown",
   "metadata": {},
   "source": [
    "# Ejecuciones con codificación de un alfabeto de 8 caracteres "
   ]
  },
  {
   "cell_type": "markdown",
   "metadata": {},
   "source": [
    "### Cruza de un 1-punto"
   ]
  },
  {
   "cell_type": "code",
   "execution_count": 9,
   "metadata": {},
   "outputs": [
    {
     "name": "stdout",
     "output_type": "stream",
     "text": [
      "Run: 1 -- Generations Required: 160\n",
      "Run: 2 -- Generations Required: 45\n",
      "Run: 3 -- Generations Required: 31\n",
      "Run: 4 -- Generations Required: 83\n",
      "Run: 5 -- Generations Required: 88\n",
      "Run: 6 -- Generations Required: 248\n",
      "Run: 7 -- Generations Required: 603\n",
      "Run: 8 -- Generations Required: 754\n",
      "Run: 9 -- Generations Required: 77\n",
      "Run: 10 -- Generations Required: 171\n",
      "Run: 11 -- Generations Required: 536\n",
      "Run: 12 -- Generations Required: 866\n",
      "Run: 13 -- Generations Required: 11\n",
      "Run: 14 -- Generations Required: 421\n",
      "Run: 15 -- Generations Required: 566\n",
      "Run: 16 -- Generations Required: 215\n",
      "Run: 17 -- Generations Required: 254\n",
      "Run: 18 -- Generations Required: 96\n",
      "Run: 19 -- Generations Required: 10\n",
      "Run: 20 -- Generations Required: 315\n",
      "Run: 21 -- Generations Required: 48\n",
      "Run: 22 -- Generations Required: 34\n",
      "Run: 23 -- Generations Required: 174\n",
      "Run: 24 -- Generations Required: 22\n",
      "Run: 25 -- Generations Required: 221\n",
      "Run: 26 -- Generations Required: 43\n",
      "Run: 27 -- Generations Required: 158\n",
      "Run: 28 -- Generations Required: 45\n",
      "Run: 29 -- Generations Required: 461\n",
      "Run: 30 -- Generations Required: 567\n"
     ]
    }
   ],
   "source": [
    "#Hacemos una cruza de un solo punto en lugar de la codificación binaria\n",
    "evaluations=[]\n",
    "for i in range(30):\n",
    "    counter=0\n",
    "    score=0\n",
    "    poblacion=create_random_numerical_population(pop_size=50)\n",
    "    while score<28.0:\n",
    "        poblacion,score=evolution_numerical_population(poblacion,cross_points=1,population_size=50)\n",
    "        counter+=1\n",
    "    print(\"Run: {} -- Generations Required: {}\".format(i+1,counter))\n",
    "    evaluations.append(counter)"
   ]
  },
  {
   "cell_type": "code",
   "execution_count": 10,
   "metadata": {},
   "outputs": [
    {
     "name": "stdout",
     "output_type": "stream",
     "text": [
      "Max: 866 -- Min: 10 -- Mean: 244.1 -- SD: 236.97\n"
     ]
    }
   ],
   "source": [
    "print(\"Max: {} -- Min: {} -- Mean: {} -- SD: {}\".format(np.max(evaluations),np.min(evaluations),round(np.mean(evaluations),2),round(np.std(evaluations),2)))"
   ]
  },
  {
   "cell_type": "markdown",
   "metadata": {},
   "source": [
    "### Cruza de 2-puntos"
   ]
  },
  {
   "cell_type": "code",
   "execution_count": 11,
   "metadata": {},
   "outputs": [
    {
     "name": "stdout",
     "output_type": "stream",
     "text": [
      "Run: 1 -- Generations Required: 11\n",
      "Run: 2 -- Generations Required: 4\n",
      "Run: 3 -- Generations Required: 3\n",
      "Run: 4 -- Generations Required: 14\n",
      "Run: 5 -- Generations Required: 10\n",
      "Run: 6 -- Generations Required: 3\n",
      "Run: 7 -- Generations Required: 12\n",
      "Run: 8 -- Generations Required: 3\n",
      "Run: 9 -- Generations Required: 20\n",
      "Run: 10 -- Generations Required: 3\n",
      "Run: 11 -- Generations Required: 7\n",
      "Run: 12 -- Generations Required: 14\n",
      "Run: 13 -- Generations Required: 15\n",
      "Run: 14 -- Generations Required: 3\n",
      "Run: 15 -- Generations Required: 6\n",
      "Run: 16 -- Generations Required: 4\n",
      "Run: 17 -- Generations Required: 13\n",
      "Run: 18 -- Generations Required: 13\n",
      "Run: 19 -- Generations Required: 9\n",
      "Run: 20 -- Generations Required: 10\n",
      "Run: 21 -- Generations Required: 13\n",
      "Run: 22 -- Generations Required: 13\n",
      "Run: 23 -- Generations Required: 26\n",
      "Run: 24 -- Generations Required: 5\n",
      "Run: 25 -- Generations Required: 13\n",
      "Run: 26 -- Generations Required: 27\n",
      "Run: 27 -- Generations Required: 12\n",
      "Run: 28 -- Generations Required: 4\n",
      "Run: 29 -- Generations Required: 4\n",
      "Run: 30 -- Generations Required: 3\n"
     ]
    }
   ],
   "source": [
    "#Hacemos una cruza de un solo punto en lugar de la codificación binaria\n",
    "evaluations=[]\n",
    "for i in range(30):\n",
    "    counter=0\n",
    "    score=0\n",
    "    poblacion=create_random_numerical_population(pop_size=50)\n",
    "    while score<28.0:\n",
    "        poblacion,score=evolution_numerical_population(poblacion,cross_points=2,population_size=50)\n",
    "        counter+=1\n",
    "    print(\"Run: {} -- Generations Required: {}\".format(i+1,counter))\n",
    "    evaluations.append(counter)"
   ]
  },
  {
   "cell_type": "code",
   "execution_count": 12,
   "metadata": {},
   "outputs": [
    {
     "name": "stdout",
     "output_type": "stream",
     "text": [
      "Max: 27 -- Min: 3 -- Mean: 9.9 -- SD: 6.44\n"
     ]
    }
   ],
   "source": [
    "print(\"Max: {} -- Min: {} -- Mean: {} -- SD: {}\".format(np.max(evaluations),np.min(evaluations),round(np.mean(evaluations),2),round(np.std(evaluations),2)))"
   ]
  },
  {
   "cell_type": "markdown",
   "metadata": {},
   "source": [
    "### Cruza Uniforme"
   ]
  },
  {
   "cell_type": "code",
   "execution_count": 13,
   "metadata": {},
   "outputs": [
    {
     "name": "stdout",
     "output_type": "stream",
     "text": [
      "Run: 1 -- Generations Required: 2\n",
      "Run: 2 -- Generations Required: 2\n",
      "Run: 3 -- Generations Required: 6\n",
      "Run: 4 -- Generations Required: 5\n",
      "Run: 5 -- Generations Required: 5\n",
      "Run: 6 -- Generations Required: 9\n",
      "Run: 7 -- Generations Required: 4\n",
      "Run: 8 -- Generations Required: 5\n",
      "Run: 9 -- Generations Required: 6\n",
      "Run: 10 -- Generations Required: 3\n",
      "Run: 11 -- Generations Required: 3\n",
      "Run: 12 -- Generations Required: 9\n",
      "Run: 13 -- Generations Required: 6\n",
      "Run: 14 -- Generations Required: 3\n",
      "Run: 15 -- Generations Required: 9\n",
      "Run: 16 -- Generations Required: 7\n",
      "Run: 17 -- Generations Required: 8\n",
      "Run: 18 -- Generations Required: 8\n",
      "Run: 19 -- Generations Required: 35\n",
      "Run: 20 -- Generations Required: 6\n",
      "Run: 21 -- Generations Required: 48\n",
      "Run: 22 -- Generations Required: 3\n",
      "Run: 23 -- Generations Required: 10\n",
      "Run: 24 -- Generations Required: 4\n",
      "Run: 25 -- Generations Required: 3\n",
      "Run: 26 -- Generations Required: 5\n",
      "Run: 27 -- Generations Required: 6\n",
      "Run: 28 -- Generations Required: 4\n",
      "Run: 29 -- Generations Required: 7\n",
      "Run: 30 -- Generations Required: 2\n"
     ]
    }
   ],
   "source": [
    "#Hacemos una cruza de un solo punto en lugar de la codificación binaria\n",
    "evaluations=[]\n",
    "for i in range(30):\n",
    "    counter=0\n",
    "    score=0\n",
    "    poblacion=create_random_numerical_population(pop_size=50)\n",
    "    while (score<28.0) and (counter<10000):\n",
    "        poblacion,score=evolution_numerical_population(poblacion,cross_points=None,population_size=50)\n",
    "        counter+=1\n",
    "    print(\"Run: {} -- Generations Required: {}\".format(i+1,counter))\n",
    "    evaluations.append(counter)"
   ]
  },
  {
   "cell_type": "code",
   "execution_count": 14,
   "metadata": {},
   "outputs": [
    {
     "name": "stdout",
     "output_type": "stream",
     "text": [
      "Max: 48 -- Min: 2 -- Mean: 7.77 -- SD: 9.44\n"
     ]
    }
   ],
   "source": [
    "print(\"Max: {} -- Min: {} -- Mean: {} -- SD: {}\".format(np.max(evaluations),np.min(evaluations),round(np.mean(evaluations),2),round(np.std(evaluations),2)))"
   ]
  },
  {
   "cell_type": "markdown",
   "metadata": {},
   "source": [
    "### Tabla comparativa de los resultados\n",
    "\n",
    "Con base en los resultados obtenidos en el presente trabajo podemos ver lo siguiente\n",
    "\n",
    "|Representación|Tipo de Cruza|Max gen|Min Gen|Mean Gen|Std gen|\n",
    "|---|---|---|---|---|---|\n",
    "|Binaria|1-Punto|523|21|145.53|130.8|\n",
    "|Binaria|2-Puntos|28|2|12.47|5.6|\n",
    "|Binaria|Uniforme|22|3|7.17|3.9|\n",
    "|Alfabética|1-punto|866|10|244.1|236.97|\n",
    "|Alfabética|2-puntos|27|3|9.9|6.44|\n",
    "|Alfabética|Uniforme|48|2|7.77|9.44|"
   ]
  },
  {
   "cell_type": "markdown",
   "metadata": {},
   "source": [
    "De la tabla anterior podemos ver que la representación binaria con cruza uniforme fue la configuración que dió mejores resultados de los probados en el presente trabajo. Así mismo vemos que la cruza de 1 punto fue la que peores resultados obtuvo en el presente trabajo. En general, la cruza de dos puntos tiene igual muy buenos resultados. "
   ]
  }
 ],
 "metadata": {
  "kernelspec": {
   "display_name": "Python 3 (ipykernel)",
   "language": "python",
   "name": "python3"
  },
  "language_info": {
   "codemirror_mode": {
    "name": "ipython",
    "version": 3
   },
   "file_extension": ".py",
   "mimetype": "text/x-python",
   "name": "python",
   "nbconvert_exporter": "python",
   "pygments_lexer": "ipython3",
   "version": "3.10.9"
  }
 },
 "nbformat": 4,
 "nbformat_minor": 2
}
